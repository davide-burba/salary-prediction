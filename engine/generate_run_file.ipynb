{
 "cells": [
  {
   "cell_type": "markdown",
   "metadata": {},
   "source": [
    "This notebook is used to generate a run file with multiple configurations"
   ]
  },
  {
   "cell_type": "code",
   "execution_count": 1,
   "metadata": {},
   "outputs": [],
   "source": [
    "import pandas as pd\n",
    "import numpy as np\n",
    "import os\n",
    "import datetime\n",
    "from sklearn.model_selection import ParameterGrid,ParameterSampler\n",
    "from scipy.stats.distributions import uniform\n",
    "import sys\n",
    "import yaml\n",
    "import pytz\n",
    "\n",
    "from run_experiment import DEFAULT_ARGS\n",
    "sys.path.insert(0,\"../src/\")"
   ]
  },
  {
   "cell_type": "markdown",
   "metadata": {},
   "source": [
    "## Utils"
   ]
  },
  {
   "cell_type": "code",
   "execution_count": 2,
   "metadata": {},
   "outputs": [],
   "source": [
    "def make_date_dir(dir_path = \".\", pattern = \"\", tz = pytz.timezone(\"Asia/Taipei\")):\n",
    "    \"\"\" Builds the directory dir_path/YYYY-MM-DD_hh-mm-ss_pattern.\n",
    "    Returns the directory path.\n",
    "    Raise an exception if the directory already exists.\n",
    "    \"\"\"\n",
    "    \n",
    "    now = str(datetime.datetime.now(tz = tz)).split(\".\")[0].replace(\" \",\"_\").replace(\":\",\"-\")\n",
    "    dir_path = dir_path + \"/\" + now + \"_\" + pattern + \"/\"\n",
    "\n",
    "    if os.path.isdir(dir_path):\n",
    "        raise Exception(\"directory exists!\")\n",
    "        \n",
    "    os.makedirs(dir_path)\n",
    "    return dir_path\n"
   ]
  },
  {
   "cell_type": "code",
   "execution_count": 3,
   "metadata": {},
   "outputs": [],
   "source": [
    "def generate_run_file(search_args,\n",
    "                      search_method = \"grid_search\",\n",
    "                      how_many = 10,\n",
    "                      config_dir = \"./configs/debug\",\n",
    "                      config_dir_pattern = \"debug\",\n",
    "                     ):\n",
    "    \"\"\"\n",
    "    generate config files and corresponding run file\n",
    "    \"\"\"\n",
    "    # set output directory for config files\n",
    "    out_dir = make_date_dir(config_dir,config_dir_pattern)\n",
    "    # bash runnable file\n",
    "    file_name = \"run_{}.sh\".format(out_dir.split(\"/\")[-2])\n",
    "\n",
    "    if search_method == \"grid_search\":\n",
    "        args_sampler = list(ParameterGrid(search_args))\n",
    "    elif search_method == \"random_search\":\n",
    "        args_sampler = list(ParameterSampler(search_args,how_many,random_state=1234))\n",
    "\n",
    "    L = len(args_sampler)\n",
    "    with open(file_name,\"w\") as run_file:\n",
    "        for iter,args in enumerate(args_sampler):\n",
    "            # set default args values for non-specified keys\n",
    "            for key in DEFAULT_ARGS:\n",
    "                if key not in args:\n",
    "                    args[key] = DEFAULT_ARGS[key]\n",
    "            # normalize numbering length\n",
    "            iter = \"0\"*(len(str(L)) - len(str(iter+1))) + str(iter+1)\n",
    "            # add numbering length to dir_pattern\n",
    "            args[\"run_name\"] += (\"_\" + iter)\n",
    "            # save config file\n",
    "            with open(out_dir + \"config_{}.yml\".format(iter),\"w\") as f:\n",
    "                yaml.dump(args,f)\n",
    "            # write run file\n",
    "            command = \"python run_experiment.py --config={}config_{}.yml\\n\".format(out_dir,iter)\n",
    "            run_file.write(command)"
   ]
  },
  {
   "cell_type": "code",
   "execution_count": 4,
   "metadata": {},
   "outputs": [
    {
     "data": {
      "text/plain": [
       "{'store_artifacts': False,\n",
       " 'random_state': 1234,\n",
       " 'cv_state': 1234,\n",
       " 'n_splits': 5,\n",
       " 'tags': {}}"
      ]
     },
     "execution_count": 4,
     "metadata": {},
     "output_type": "execute_result"
    }
   ],
   "source": [
    "DEFAULT_ARGS"
   ]
  },
  {
   "cell_type": "markdown",
   "metadata": {},
   "source": [
    "## Parameters - EDITABLE"
   ]
  },
  {
   "cell_type": "code",
   "execution_count": 5,
   "metadata": {},
   "outputs": [
    {
     "data": {
      "text/plain": [
       "15"
      ]
     },
     "execution_count": 5,
     "metadata": {},
     "output_type": "execute_result"
    }
   ],
   "source": [
    "features = ['contratto', 'ore_settimana', 'dimensioni_azienda', \n",
    "            'settore', 'qualifica', 'titolo_studio', 'tipo_laurea',\n",
    "            'tipo_diploma', 'regione', 'ampiezza_comune', 'anni_da_primo_lavoro',\n",
    "            'anni_da_lavoro_corrente', 'anni_da_edu', 'anni_contributi', 'n_esp_lavorative']\n",
    "len(features)"
   ]
  },
  {
   "cell_type": "code",
   "execution_count": 6,
   "metadata": {},
   "outputs": [],
   "source": [
    "search_method = \"random_search\" # random_search or grid_search\n",
    "how_many = 100                  # used only for random_search\n",
    "config_dir = \"./configs/\" + \"hparam_search/\" # don't edit \"./configs/\"\n",
    "config_pattern = \"probnn\"\n",
    "\n",
    "search_args = dict(\n",
    "    # Fixed args\n",
    "    action = [\"cross_validate\"],\n",
    "    experiment = [config_dir.split(\"/\")[2]],\n",
    "    run_name = [config_pattern],\n",
    "    # Varying args\n",
    "    store_artifacts = [False],\n",
    "    n_splits =  [5],\n",
    "    model = [\"ProbNN\"],\n",
    "    model_args = list(ParameterGrid(dict(\n",
    "        epochs = [25,50,100,150,200],\n",
    "        dropout = [0,0.1,0.2,0.3,0.4],\n",
    "        lr = [0.03,0.01,0.003,0.001,0.0003],\n",
    "        batch_size = [256],\n",
    "        num_nodes = [[32],[32,32],[32,32,32]],\n",
    "        embedding_size = [4,8,16],\n",
    "        distr = [\"normal\"],\n",
    "    ))),\n",
    "    data_args = [dict(\n",
    "        features = features,\n",
    "        alpha = 0.01\n",
    "    )],\n",
    ")"
   ]
  },
  {
   "cell_type": "markdown",
   "metadata": {},
   "source": [
    "## Generate run file"
   ]
  },
  {
   "cell_type": "code",
   "execution_count": 7,
   "metadata": {},
   "outputs": [],
   "source": [
    "generate_run_file(search_args,\n",
    "                search_method,\n",
    "                how_many,\n",
    "                config_dir,\n",
    "                config_pattern)"
   ]
  },
  {
   "cell_type": "code",
   "execution_count": null,
   "metadata": {},
   "outputs": [],
   "source": []
  },
  {
   "cell_type": "code",
   "execution_count": null,
   "metadata": {},
   "outputs": [],
   "source": []
  },
  {
   "cell_type": "code",
   "execution_count": null,
   "metadata": {},
   "outputs": [],
   "source": []
  }
 ],
 "metadata": {
  "kernelspec": {
   "display_name": "Python 3",
   "language": "python",
   "name": "python3"
  },
  "language_info": {
   "codemirror_mode": {
    "name": "ipython",
    "version": 3
   },
   "file_extension": ".py",
   "mimetype": "text/x-python",
   "name": "python",
   "nbconvert_exporter": "python",
   "pygments_lexer": "ipython3",
   "version": "3.7.4"
  }
 },
 "nbformat": 4,
 "nbformat_minor": 4
}
