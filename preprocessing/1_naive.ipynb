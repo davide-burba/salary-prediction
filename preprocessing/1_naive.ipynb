{
 "cells": [
  {
   "cell_type": "code",
   "execution_count": 14,
   "metadata": {},
   "outputs": [],
   "source": [
    "import pandas as pd\n",
    "from sklearn.model_selection import train_test_split\n",
    "import os"
   ]
  },
  {
   "cell_type": "code",
   "execution_count": 15,
   "metadata": {},
   "outputs": [
    {
     "name": "stdout",
     "output_type": "stream",
     "text": [
      "(244768, 12)\n"
     ]
    },
    {
     "data": {
      "text/html": [
       "<div>\n",
       "<style scoped>\n",
       "    .dataframe tbody tr th:only-of-type {\n",
       "        vertical-align: middle;\n",
       "    }\n",
       "\n",
       "    .dataframe tbody tr th {\n",
       "        vertical-align: top;\n",
       "    }\n",
       "\n",
       "    .dataframe thead th {\n",
       "        text-align: right;\n",
       "    }\n",
       "</style>\n",
       "<table border=\"1\" class=\"dataframe\">\n",
       "  <thead>\n",
       "    <tr style=\"text-align: right;\">\n",
       "      <th></th>\n",
       "      <th>Id</th>\n",
       "      <th>Title</th>\n",
       "      <th>FullDescription</th>\n",
       "      <th>LocationRaw</th>\n",
       "      <th>LocationNormalized</th>\n",
       "      <th>ContractType</th>\n",
       "      <th>ContractTime</th>\n",
       "      <th>Company</th>\n",
       "      <th>Category</th>\n",
       "      <th>SalaryRaw</th>\n",
       "      <th>SalaryNormalized</th>\n",
       "      <th>SourceName</th>\n",
       "    </tr>\n",
       "  </thead>\n",
       "  <tbody>\n",
       "    <tr>\n",
       "      <th>0</th>\n",
       "      <td>12612628</td>\n",
       "      <td>Engineering Systems Analyst</td>\n",
       "      <td>Engineering Systems Analyst Dorking Surrey Sal...</td>\n",
       "      <td>Dorking, Surrey, Surrey</td>\n",
       "      <td>Dorking</td>\n",
       "      <td>NaN</td>\n",
       "      <td>permanent</td>\n",
       "      <td>Gregory Martin International</td>\n",
       "      <td>Engineering Jobs</td>\n",
       "      <td>20000 - 30000/annum 20-30K</td>\n",
       "      <td>25000</td>\n",
       "      <td>cv-library.co.uk</td>\n",
       "    </tr>\n",
       "    <tr>\n",
       "      <th>1</th>\n",
       "      <td>12612830</td>\n",
       "      <td>Stress Engineer Glasgow</td>\n",
       "      <td>Stress Engineer Glasgow Salary **** to **** We...</td>\n",
       "      <td>Glasgow, Scotland, Scotland</td>\n",
       "      <td>Glasgow</td>\n",
       "      <td>NaN</td>\n",
       "      <td>permanent</td>\n",
       "      <td>Gregory Martin International</td>\n",
       "      <td>Engineering Jobs</td>\n",
       "      <td>25000 - 35000/annum 25-35K</td>\n",
       "      <td>30000</td>\n",
       "      <td>cv-library.co.uk</td>\n",
       "    </tr>\n",
       "    <tr>\n",
       "      <th>2</th>\n",
       "      <td>12612844</td>\n",
       "      <td>Modelling and simulation analyst</td>\n",
       "      <td>Mathematical Modeller / Simulation Analyst / O...</td>\n",
       "      <td>Hampshire, South East, South East</td>\n",
       "      <td>Hampshire</td>\n",
       "      <td>NaN</td>\n",
       "      <td>permanent</td>\n",
       "      <td>Gregory Martin International</td>\n",
       "      <td>Engineering Jobs</td>\n",
       "      <td>20000 - 40000/annum 20-40K</td>\n",
       "      <td>30000</td>\n",
       "      <td>cv-library.co.uk</td>\n",
       "    </tr>\n",
       "  </tbody>\n",
       "</table>\n",
       "</div>"
      ],
      "text/plain": [
       "         Id                             Title  \\\n",
       "0  12612628       Engineering Systems Analyst   \n",
       "1  12612830           Stress Engineer Glasgow   \n",
       "2  12612844  Modelling and simulation analyst   \n",
       "\n",
       "                                     FullDescription  \\\n",
       "0  Engineering Systems Analyst Dorking Surrey Sal...   \n",
       "1  Stress Engineer Glasgow Salary **** to **** We...   \n",
       "2  Mathematical Modeller / Simulation Analyst / O...   \n",
       "\n",
       "                         LocationRaw LocationNormalized ContractType  \\\n",
       "0            Dorking, Surrey, Surrey            Dorking          NaN   \n",
       "1        Glasgow, Scotland, Scotland            Glasgow          NaN   \n",
       "2  Hampshire, South East, South East          Hampshire          NaN   \n",
       "\n",
       "  ContractTime                       Company          Category  \\\n",
       "0    permanent  Gregory Martin International  Engineering Jobs   \n",
       "1    permanent  Gregory Martin International  Engineering Jobs   \n",
       "2    permanent  Gregory Martin International  Engineering Jobs   \n",
       "\n",
       "                    SalaryRaw  SalaryNormalized        SourceName  \n",
       "0  20000 - 30000/annum 20-30K             25000  cv-library.co.uk  \n",
       "1  25000 - 35000/annum 25-35K             30000  cv-library.co.uk  \n",
       "2  20000 - 40000/annum 20-40K             30000  cv-library.co.uk  "
      ]
     },
     "execution_count": 15,
     "metadata": {},
     "output_type": "execute_result"
    }
   ],
   "source": [
    "train = pd.read_csv(\"../data/1_salary_uk_job_ads/Train_rev1.csv\")\n",
    "#valid = pd.read_csv(\"../data/1_salary_uk_job_ads/Valid_rev1.csv\")\n",
    "#test = pd.read_csv(\"../data/1_salary_uk_job_ads/Test_rev1.csv\")\n",
    "\n",
    "print(train.shape)\n",
    "train.head(3)"
   ]
  },
  {
   "cell_type": "code",
   "execution_count": 16,
   "metadata": {},
   "outputs": [],
   "source": [
    "train,test = train_test_split(train,test_size = 0.3, random_state = 32)\n",
    "train,valid = train_test_split(train,test_size = 0.2 / 0.7, random_state = 39)"
   ]
  },
  {
   "cell_type": "code",
   "execution_count": 17,
   "metadata": {},
   "outputs": [
    {
     "data": {
      "text/plain": [
       "((122383, 12), (48954, 12), (73431, 12))"
      ]
     },
     "execution_count": 17,
     "metadata": {},
     "output_type": "execute_result"
    }
   ],
   "source": [
    "train.shape,valid.shape,test.shape"
   ]
  },
  {
   "cell_type": "code",
   "execution_count": 18,
   "metadata": {},
   "outputs": [],
   "source": [
    "cols = [\"ContractTime\",\"Category\"]"
   ]
  },
  {
   "cell_type": "code",
   "execution_count": 19,
   "metadata": {},
   "outputs": [],
   "source": [
    "train_onehot = pd.get_dummies(train[cols])\n",
    "valid_onehot = pd.get_dummies(valid[cols])\n",
    "test_onehot = pd.get_dummies(test[cols])\n",
    "\n",
    "train_onehot[\"SalaryNormalized\"] = train.SalaryNormalized\n",
    "valid_onehot[\"SalaryNormalized\"] = valid.SalaryNormalized\n",
    "test_onehot[\"SalaryNormalized\"] = test.SalaryNormalized"
   ]
  },
  {
   "cell_type": "code",
   "execution_count": 20,
   "metadata": {},
   "outputs": [],
   "source": [
    "# reset indexes\n",
    "train_onehot = train_onehot.reset_index(drop=True)\n",
    "valid_onehot = valid_onehot.reset_index(drop=True)\n",
    "test_onehot = test_onehot.reset_index(drop=True)"
   ]
  },
  {
   "cell_type": "code",
   "execution_count": 21,
   "metadata": {},
   "outputs": [],
   "source": [
    "train_onehot.columns = [s.replace(\" \",\"_\") for s in train_onehot.columns]\n",
    "valid_onehot.columns = [s.replace(\" \",\"_\") for s in valid_onehot.columns]\n",
    "test_onehot.columns = [s.replace(\" \",\"_\") for s in test_onehot.columns]\n",
    "\n",
    "train_onehot.columns = [s.replace(\"&\",\"\") for s in train_onehot.columns]\n",
    "valid_onehot.columns = [s.replace(\"&\",\"\") for s in valid_onehot.columns]\n",
    "test_onehot.columns = [s.replace(\"&\",\"\") for s in test_onehot.columns]\n",
    "\n",
    "train_onehot.columns = [s.replace(\"/\",\"_\") for s in train_onehot.columns]\n",
    "valid_onehot.columns = [s.replace(\"/\",\"_\") for s in valid_onehot.columns]\n",
    "test_onehot.columns = [s.replace(\"/\",\"_\") for s in test_onehot.columns]\n",
    "\n",
    "train_onehot.columns = [s.replace(\",\",\"_\") for s in train_onehot.columns]\n",
    "valid_onehot.columns = [s.replace(\",\",\"_\") for s in valid_onehot.columns]\n",
    "test_onehot.columns = [s.replace(\",\",\"_\") for s in test_onehot.columns]"
   ]
  },
  {
   "cell_type": "code",
   "execution_count": 22,
   "metadata": {},
   "outputs": [],
   "source": [
    "# check \n",
    "valid_onehot = valid_onehot[train_onehot.columns]\n",
    "test_onehot = test_onehot[train_onehot.columns]"
   ]
  },
  {
   "cell_type": "code",
   "execution_count": 23,
   "metadata": {},
   "outputs": [
    {
     "data": {
      "text/html": [
       "<div>\n",
       "<style scoped>\n",
       "    .dataframe tbody tr th:only-of-type {\n",
       "        vertical-align: middle;\n",
       "    }\n",
       "\n",
       "    .dataframe tbody tr th {\n",
       "        vertical-align: top;\n",
       "    }\n",
       "\n",
       "    .dataframe thead th {\n",
       "        text-align: right;\n",
       "    }\n",
       "</style>\n",
       "<table border=\"1\" class=\"dataframe\">\n",
       "  <thead>\n",
       "    <tr style=\"text-align: right;\">\n",
       "      <th></th>\n",
       "      <th>ContractTime_contract</th>\n",
       "      <th>ContractTime_permanent</th>\n",
       "      <th>Category_Accounting__Finance_Jobs</th>\n",
       "      <th>Category_Admin_Jobs</th>\n",
       "      <th>Category_Charity__Voluntary_Jobs</th>\n",
       "      <th>Category_Consultancy_Jobs</th>\n",
       "      <th>Category_Creative__Design_Jobs</th>\n",
       "      <th>Category_Customer_Services_Jobs</th>\n",
       "      <th>Category_Domestic_help__Cleaning_Jobs</th>\n",
       "      <th>Category_Energy__Oil__Gas_Jobs</th>\n",
       "      <th>...</th>\n",
       "      <th>Category_Part_time_Jobs</th>\n",
       "      <th>Category_Property_Jobs</th>\n",
       "      <th>Category_Retail_Jobs</th>\n",
       "      <th>Category_Sales_Jobs</th>\n",
       "      <th>Category_Scientific__QA_Jobs</th>\n",
       "      <th>Category_Social_work_Jobs</th>\n",
       "      <th>Category_Teaching_Jobs</th>\n",
       "      <th>Category_Trade__Construction_Jobs</th>\n",
       "      <th>Category_Travel_Jobs</th>\n",
       "      <th>SalaryNormalized</th>\n",
       "    </tr>\n",
       "  </thead>\n",
       "  <tbody>\n",
       "    <tr>\n",
       "      <th>0</th>\n",
       "      <td>0</td>\n",
       "      <td>0</td>\n",
       "      <td>0</td>\n",
       "      <td>0</td>\n",
       "      <td>0</td>\n",
       "      <td>0</td>\n",
       "      <td>0</td>\n",
       "      <td>0</td>\n",
       "      <td>0</td>\n",
       "      <td>0</td>\n",
       "      <td>...</td>\n",
       "      <td>0</td>\n",
       "      <td>0</td>\n",
       "      <td>0</td>\n",
       "      <td>0</td>\n",
       "      <td>0</td>\n",
       "      <td>0</td>\n",
       "      <td>0</td>\n",
       "      <td>0</td>\n",
       "      <td>0</td>\n",
       "      <td>7170</td>\n",
       "    </tr>\n",
       "    <tr>\n",
       "      <th>1</th>\n",
       "      <td>0</td>\n",
       "      <td>1</td>\n",
       "      <td>0</td>\n",
       "      <td>0</td>\n",
       "      <td>0</td>\n",
       "      <td>0</td>\n",
       "      <td>0</td>\n",
       "      <td>0</td>\n",
       "      <td>0</td>\n",
       "      <td>0</td>\n",
       "      <td>...</td>\n",
       "      <td>0</td>\n",
       "      <td>0</td>\n",
       "      <td>0</td>\n",
       "      <td>0</td>\n",
       "      <td>0</td>\n",
       "      <td>0</td>\n",
       "      <td>0</td>\n",
       "      <td>0</td>\n",
       "      <td>0</td>\n",
       "      <td>60000</td>\n",
       "    </tr>\n",
       "  </tbody>\n",
       "</table>\n",
       "<p>2 rows × 32 columns</p>\n",
       "</div>"
      ],
      "text/plain": [
       "   ContractTime_contract  ContractTime_permanent  \\\n",
       "0                      0                       0   \n",
       "1                      0                       1   \n",
       "\n",
       "   Category_Accounting__Finance_Jobs  Category_Admin_Jobs  \\\n",
       "0                                  0                    0   \n",
       "1                                  0                    0   \n",
       "\n",
       "   Category_Charity__Voluntary_Jobs  Category_Consultancy_Jobs  \\\n",
       "0                                 0                          0   \n",
       "1                                 0                          0   \n",
       "\n",
       "   Category_Creative__Design_Jobs  Category_Customer_Services_Jobs  \\\n",
       "0                               0                                0   \n",
       "1                               0                                0   \n",
       "\n",
       "   Category_Domestic_help__Cleaning_Jobs  Category_Energy__Oil__Gas_Jobs  ...  \\\n",
       "0                                      0                               0  ...   \n",
       "1                                      0                               0  ...   \n",
       "\n",
       "   Category_Part_time_Jobs  Category_Property_Jobs  Category_Retail_Jobs  \\\n",
       "0                        0                       0                     0   \n",
       "1                        0                       0                     0   \n",
       "\n",
       "   Category_Sales_Jobs  Category_Scientific__QA_Jobs  \\\n",
       "0                    0                             0   \n",
       "1                    0                             0   \n",
       "\n",
       "   Category_Social_work_Jobs  Category_Teaching_Jobs  \\\n",
       "0                          0                       0   \n",
       "1                          0                       0   \n",
       "\n",
       "   Category_Trade__Construction_Jobs  Category_Travel_Jobs  SalaryNormalized  \n",
       "0                                  0                     0              7170  \n",
       "1                                  0                     0             60000  \n",
       "\n",
       "[2 rows x 32 columns]"
      ]
     },
     "execution_count": 23,
     "metadata": {},
     "output_type": "execute_result"
    }
   ],
   "source": [
    "train_onehot.head(2)"
   ]
  },
  {
   "cell_type": "code",
   "execution_count": 24,
   "metadata": {},
   "outputs": [
    {
     "data": {
      "text/plain": [
       "Index(['ContractTime_contract', 'ContractTime_permanent',\n",
       "       'Category_Accounting__Finance_Jobs', 'Category_Admin_Jobs',\n",
       "       'Category_Charity__Voluntary_Jobs', 'Category_Consultancy_Jobs',\n",
       "       'Category_Creative__Design_Jobs', 'Category_Customer_Services_Jobs',\n",
       "       'Category_Domestic_help__Cleaning_Jobs',\n",
       "       'Category_Energy__Oil__Gas_Jobs', 'Category_Engineering_Jobs',\n",
       "       'Category_Graduate_Jobs', 'Category_HR__Recruitment_Jobs',\n",
       "       'Category_Healthcare__Nursing_Jobs',\n",
       "       'Category_Hospitality__Catering_Jobs', 'Category_IT_Jobs',\n",
       "       'Category_Legal_Jobs', 'Category_Logistics__Warehouse_Jobs',\n",
       "       'Category_Maintenance_Jobs', 'Category_Manufacturing_Jobs',\n",
       "       'Category_Other_General_Jobs',\n",
       "       'Category_PR__Advertising__Marketing_Jobs', 'Category_Part_time_Jobs',\n",
       "       'Category_Property_Jobs', 'Category_Retail_Jobs', 'Category_Sales_Jobs',\n",
       "       'Category_Scientific__QA_Jobs', 'Category_Social_work_Jobs',\n",
       "       'Category_Teaching_Jobs', 'Category_Trade__Construction_Jobs',\n",
       "       'Category_Travel_Jobs', 'SalaryNormalized'],\n",
       "      dtype='object')"
      ]
     },
     "execution_count": 24,
     "metadata": {},
     "output_type": "execute_result"
    }
   ],
   "source": [
    "train_onehot.columns"
   ]
  },
  {
   "cell_type": "code",
   "execution_count": 25,
   "metadata": {},
   "outputs": [],
   "source": [
    "# store \n",
    "path = \"../preprocessed_data/1_naive/\"\n",
    "if not os.path.isdir(path):\n",
    "    os.makedirs(path)\n",
    "\n",
    "train_onehot.to_pickle(path + \"train.p\")\n",
    "valid_onehot.to_pickle(path + \"valid.p\")\n",
    "test_onehot.to_pickle(path + \"test.p\")"
   ]
  },
  {
   "cell_type": "code",
   "execution_count": null,
   "metadata": {},
   "outputs": [],
   "source": []
  },
  {
   "cell_type": "code",
   "execution_count": null,
   "metadata": {},
   "outputs": [],
   "source": []
  },
  {
   "cell_type": "code",
   "execution_count": null,
   "metadata": {},
   "outputs": [],
   "source": []
  },
  {
   "cell_type": "code",
   "execution_count": null,
   "metadata": {},
   "outputs": [],
   "source": []
  }
 ],
 "metadata": {
  "kernelspec": {
   "display_name": "Python [conda env:root] *",
   "language": "python",
   "name": "conda-root-py"
  },
  "language_info": {
   "codemirror_mode": {
    "name": "ipython",
    "version": 3
   },
   "file_extension": ".py",
   "mimetype": "text/x-python",
   "name": "python",
   "nbconvert_exporter": "python",
   "pygments_lexer": "ipython3",
   "version": "3.7.4"
  }
 },
 "nbformat": 4,
 "nbformat_minor": 4
}
