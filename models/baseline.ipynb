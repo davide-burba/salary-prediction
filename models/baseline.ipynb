{
 "cells": [
  {
   "cell_type": "code",
   "execution_count": 1,
   "metadata": {},
   "outputs": [],
   "source": [
    "import pandas as pd\n",
    "import numpy as np\n",
    "import lightgbm as lgb\n",
    "from sklearn.metrics import mean_absolute_error, mean_squared_error\n",
    "import matplotlib.pyplot as plt\n",
    "\n",
    "import pickle"
   ]
  },
  {
   "cell_type": "markdown",
   "metadata": {},
   "source": [
    "# Prepare data"
   ]
  },
  {
   "cell_type": "code",
   "execution_count": 2,
   "metadata": {},
   "outputs": [],
   "source": [
    "data = pd.read_pickle(\"../preprocessed_data/uk/data.p\")"
   ]
  },
  {
   "cell_type": "code",
   "execution_count": 6,
   "metadata": {},
   "outputs": [
    {
     "data": {
      "text/plain": [
       "['Accounting & Finance Jobs',\n",
       " 'Admin Jobs',\n",
       " 'Charity & Voluntary Jobs',\n",
       " 'Consultancy Jobs',\n",
       " 'Creative & Design Jobs',\n",
       " 'Customer Services Jobs',\n",
       " 'Domestic help & Cleaning Jobs',\n",
       " 'Energy, Oil & Gas Jobs',\n",
       " 'Engineering Jobs',\n",
       " 'Graduate Jobs',\n",
       " 'HR & Recruitment Jobs',\n",
       " 'Healthcare & Nursing Jobs',\n",
       " 'Hospitality & Catering Jobs',\n",
       " 'IT Jobs',\n",
       " 'Legal Jobs',\n",
       " 'Logistics & Warehouse Jobs',\n",
       " 'Maintenance Jobs',\n",
       " 'Manufacturing Jobs',\n",
       " 'Other/General Jobs',\n",
       " 'PR, Advertising & Marketing Jobs',\n",
       " 'Part time Jobs',\n",
       " 'Property Jobs',\n",
       " 'Retail Jobs',\n",
       " 'Sales Jobs',\n",
       " 'Scientific & QA Jobs',\n",
       " 'Social work Jobs',\n",
       " 'Teaching Jobs',\n",
       " 'Trade & Construction Jobs',\n",
       " 'Travel Jobs']"
      ]
     },
     "execution_count": 6,
     "metadata": {},
     "output_type": "execute_result"
    }
   ],
   "source": [
    "sorted(data.Category.unique())"
   ]
  },
  {
   "cell_type": "code",
   "execution_count": 3,
   "metadata": {},
   "outputs": [],
   "source": [
    "for c in ['ContractTime','Category']:\n",
    "    data[c] = data[c].astype(\"category\")"
   ]
  },
  {
   "cell_type": "code",
   "execution_count": 4,
   "metadata": {},
   "outputs": [],
   "source": [
    "X = data.drop(columns = \"SalaryNormalized\")\n",
    "label = data[\"SalaryNormalized\"].values"
   ]
  },
  {
   "cell_type": "code",
   "execution_count": 5,
   "metadata": {},
   "outputs": [],
   "source": [
    "train_data = lgb.Dataset(X, label=label, free_raw_data=False)"
   ]
  },
  {
   "cell_type": "markdown",
   "metadata": {},
   "source": [
    "# Cross validate"
   ]
  },
  {
   "cell_type": "code",
   "execution_count": 6,
   "metadata": {},
   "outputs": [],
   "source": [
    "param = {'num_leaves': 4, 'min_data_in_leaf': 1, 'objective': 'mape'}\n",
    "param['metric'] = 'mape'"
   ]
  },
  {
   "cell_type": "code",
   "execution_count": 14,
   "metadata": {},
   "outputs": [
    {
     "name": "stderr",
     "output_type": "stream",
     "text": [
      "/Users/davide/opt/anaconda3/lib/python3.7/site-packages/sklearn/model_selection/_split.py:667: UserWarning: The least populated class in y has only 1 members, which is less than n_splits=5.\n",
      "  % (min_groups, self.n_splits)), UserWarning)\n"
     ]
    },
    {
     "data": {
      "text/plain": [
       "[<matplotlib.lines.Line2D at 0x1a2bc1a510>]"
      ]
     },
     "execution_count": 14,
     "metadata": {},
     "output_type": "execute_result"
    },
    {
     "data": {
      "image/png": "[encoded data removed]",
      "text/plain": [
       "<Figure size 432x288 with 1 Axes>"
      ]
     },
     "metadata": {
      "needs_background": "light"
     },
     "output_type": "display_data"
    }
   ],
   "source": [
    "num_round = 100\n",
    "scores = lgb.cv(param, train_data, num_round, nfold=5)\n",
    "plt.plot(scores['mape-mean'])"
   ]
  },
  {
   "cell_type": "markdown",
   "metadata": {},
   "source": [
    "# Fit"
   ]
  },
  {
   "cell_type": "code",
   "execution_count": 8,
   "metadata": {},
   "outputs": [],
   "source": [
    "bst = lgb.train(param, train_data, num_round)"
   ]
  },
  {
   "cell_type": "code",
   "execution_count": 9,
   "metadata": {},
   "outputs": [],
   "source": [
    "# save features\n",
    "features = [\"contract_time\",\"category\",\"region\"]\n",
    "with open(\"features.p\",\"wb\") as f: pickle.dump(features,f)"
   ]
  },
  {
   "cell_type": "code",
   "execution_count": 10,
   "metadata": {},
   "outputs": [],
   "source": [
    "# save_model\n",
    "with open(\"bst.p\",\"wb\") as f:\n",
    "    pickle.dump(bst,f)"
   ]
  },
  {
   "cell_type": "code",
   "execution_count": 12,
   "metadata": {},
   "outputs": [
    {
     "data": {
      "text/plain": [
       "array([23039.87288583])"
      ]
     },
     "execution_count": 12,
     "metadata": {},
     "output_type": "execute_result"
    }
   ],
   "source": [
    "# example\n",
    "\n",
    "# load\n",
    "class ModelByRegion:\n",
    "    def __init__(self,bst,scale = 34122.5775755):\n",
    "        self.bst = bst\n",
    "        self.scale = scale\n",
    "        # from https://www.statista.com/statistics/708972/average-annual-nominal-wages-of-employees-italy-by-region/\n",
    "        self.salary_by_region = dict(\n",
    "            Lombardia=31446,\n",
    "            Trentino=30786,\n",
    "            Lazio=30496,\n",
    "            Emilia=30273,\n",
    "            Liguria=30190,\n",
    "            Piemonte=29556,\n",
    "            Veneto=29286,\n",
    "            Friuli=29222,\n",
    "            Aosta=29202,\n",
    "            Toscana=28513,\n",
    "            Marche=27411,\n",
    "            Abruzzo=27039,\n",
    "            Campania=26904,\n",
    "            Umbria=26737,\n",
    "            Puglia=26410,\n",
    "            Molise=26263,\n",
    "            Sicilia=26133,\n",
    "            Sardegna=26042,\n",
    "            Calabria=25079,\n",
    "            Basilicata=24308,\n",
    "        )\n",
    "        \n",
    "    def predict(self,contract_time,category,region):\n",
    "        x = pd.DataFrame(dict(contract_time=[contract_time], category=[category]),dtype=\"category\")\n",
    "        return (self.bst.predict(x) / self.scale) * self.salary_by_region[region]\n",
    "\n",
    "    \n",
    "bst = pd.read_pickle(\"bst.p\")\n",
    "model = ModelByRegion(bst)\n",
    "\n",
    "contract_time = \"permanent\"\n",
    "category = \"Accounting & Finance Jobs\"\n",
    "region = \"Lombardia\"\n",
    "\n",
    "model.predict(contract_time,category,region)"
   ]
  },
  {
   "cell_type": "code",
   "execution_count": 13,
   "metadata": {},
   "outputs": [
    {
     "data": {
      "text/html": [
       "<div>\n",
       "<style scoped>\n",
       "    .dataframe tbody tr th:only-of-type {\n",
       "        vertical-align: middle;\n",
       "    }\n",
       "\n",
       "    .dataframe tbody tr th {\n",
       "        vertical-align: top;\n",
       "    }\n",
       "\n",
       "    .dataframe thead th {\n",
       "        text-align: right;\n",
       "    }\n",
       "</style>\n",
       "<table border=\"1\" class=\"dataframe\">\n",
       "  <thead>\n",
       "    <tr style=\"text-align: right;\">\n",
       "      <th></th>\n",
       "      <th>ContractTime</th>\n",
       "      <th>Category</th>\n",
       "    </tr>\n",
       "  </thead>\n",
       "  <tbody>\n",
       "    <tr>\n",
       "      <th>0</th>\n",
       "      <td>permanent</td>\n",
       "      <td>Engineering Jobs</td>\n",
       "    </tr>\n",
       "    <tr>\n",
       "      <th>1</th>\n",
       "      <td>permanent</td>\n",
       "      <td>Engineering Jobs</td>\n",
       "    </tr>\n",
       "    <tr>\n",
       "      <th>2</th>\n",
       "      <td>permanent</td>\n",
       "      <td>Engineering Jobs</td>\n",
       "    </tr>\n",
       "    <tr>\n",
       "      <th>3</th>\n",
       "      <td>permanent</td>\n",
       "      <td>Engineering Jobs</td>\n",
       "    </tr>\n",
       "    <tr>\n",
       "      <th>4</th>\n",
       "      <td>permanent</td>\n",
       "      <td>Engineering Jobs</td>\n",
       "    </tr>\n",
       "    <tr>\n",
       "      <th>...</th>\n",
       "      <td>...</td>\n",
       "      <td>...</td>\n",
       "    </tr>\n",
       "    <tr>\n",
       "      <th>244763</th>\n",
       "      <td>contract</td>\n",
       "      <td>Teaching Jobs</td>\n",
       "    </tr>\n",
       "    <tr>\n",
       "      <th>244764</th>\n",
       "      <td>contract</td>\n",
       "      <td>Teaching Jobs</td>\n",
       "    </tr>\n",
       "    <tr>\n",
       "      <th>244765</th>\n",
       "      <td>contract</td>\n",
       "      <td>Teaching Jobs</td>\n",
       "    </tr>\n",
       "    <tr>\n",
       "      <th>244766</th>\n",
       "      <td>contract</td>\n",
       "      <td>Teaching Jobs</td>\n",
       "    </tr>\n",
       "    <tr>\n",
       "      <th>244767</th>\n",
       "      <td>permanent</td>\n",
       "      <td>Teaching Jobs</td>\n",
       "    </tr>\n",
       "  </tbody>\n",
       "</table>\n",
       "<p>244768 rows × 2 columns</p>\n",
       "</div>"
      ],
      "text/plain": [
       "       ContractTime          Category\n",
       "0         permanent  Engineering Jobs\n",
       "1         permanent  Engineering Jobs\n",
       "2         permanent  Engineering Jobs\n",
       "3         permanent  Engineering Jobs\n",
       "4         permanent  Engineering Jobs\n",
       "...             ...               ...\n",
       "244763     contract     Teaching Jobs\n",
       "244764     contract     Teaching Jobs\n",
       "244765     contract     Teaching Jobs\n",
       "244766     contract     Teaching Jobs\n",
       "244767    permanent     Teaching Jobs\n",
       "\n",
       "[244768 rows x 2 columns]"
      ]
     },
     "execution_count": 13,
     "metadata": {},
     "output_type": "execute_result"
    }
   ],
   "source": [
    "X"
   ]
  },
  {
   "cell_type": "code",
   "execution_count": null,
   "metadata": {},
   "outputs": [],
   "source": []
  }
 ],
 "metadata": {
  "kernelspec": {
   "display_name": "Python 3",
   "language": "python",
   "name": "python3"
  },
  "language_info": {
   "codemirror_mode": {
    "name": "ipython",
    "version": 3
   },
   "file_extension": ".py",
   "mimetype": "text/x-python",
   "name": "python",
   "nbconvert_exporter": "python",
   "pygments_lexer": "ipython3",
   "version": "3.7.4"
  }
 },
 "nbformat": 4,
 "nbformat_minor": 4
}
