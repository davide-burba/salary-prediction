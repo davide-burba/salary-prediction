{
 "cells": [
  {
   "cell_type": "code",
   "execution_count": 1,
   "metadata": {},
   "outputs": [],
   "source": [
    "import pandas as pd\n",
    "import numpy as np\n",
    "import lightgbm as lgb\n",
    "from sklearn.metrics import mean_absolute_error, mean_squared_error\n",
    "import matplotlib.pyplot as plt\n",
    "\n",
    "import pickle"
   ]
  },
  {
   "cell_type": "markdown",
   "metadata": {},
   "source": [
    "# Prepare data"
   ]
  },
  {
   "cell_type": "code",
   "execution_count": 2,
   "metadata": {},
   "outputs": [],
   "source": [
    "data = pd.read_pickle(\"../preprocessed_data/uk/data.p\")"
   ]
  },
  {
   "cell_type": "code",
   "execution_count": 3,
   "metadata": {},
   "outputs": [],
   "source": [
    "for c in ['ContractTime','Category']:\n",
    "    data[c] = data[c].astype(\"category\")"
   ]
  },
  {
   "cell_type": "code",
   "execution_count": 4,
   "metadata": {},
   "outputs": [],
   "source": [
    "X = data.drop(columns = \"SalaryNormalized\")\n",
    "label = data[\"SalaryNormalized\"].values"
   ]
  },
  {
   "cell_type": "code",
   "execution_count": 5,
   "metadata": {},
   "outputs": [],
   "source": [
    "train_data = lgb.Dataset(X, label=label, free_raw_data=False)"
   ]
  },
  {
   "cell_type": "markdown",
   "metadata": {},
   "source": [
    "# Cross validate"
   ]
  },
  {
   "cell_type": "code",
   "execution_count": 6,
   "metadata": {},
   "outputs": [],
   "source": [
    "param = {'num_leaves': 4, 'min_data_in_leaf': 1, 'objective': 'mape'}\n",
    "param['metric'] = 'mape'"
   ]
  },
  {
   "cell_type": "code",
   "execution_count": 7,
   "metadata": {},
   "outputs": [],
   "source": [
    "num_round = 100\n",
    "#scores = lgb.cv(param, train_data, num_round, nfold=5)\n",
    "#plt.plot(scores['mape-mean'])"
   ]
  },
  {
   "cell_type": "markdown",
   "metadata": {},
   "source": [
    "# Fit"
   ]
  },
  {
   "cell_type": "code",
   "execution_count": 8,
   "metadata": {},
   "outputs": [],
   "source": [
    "bst = lgb.train(param, train_data, num_round)"
   ]
  },
  {
   "cell_type": "code",
   "execution_count": 9,
   "metadata": {},
   "outputs": [],
   "source": [
    "# save features\n",
    "features = [\"contract_time\",\"category\",\"region\"]\n",
    "with open(\"features.p\",\"wb\") as f: pickle.dump(features,f)"
   ]
  },
  {
   "cell_type": "code",
   "execution_count": 10,
   "metadata": {},
   "outputs": [],
   "source": [
    "# save_model\n",
    "with open(\"bst.p\",\"wb\") as f:\n",
    "    pickle.dump(bst,f)"
   ]
  },
  {
   "cell_type": "code",
   "execution_count": 12,
   "metadata": {},
   "outputs": [
    {
     "data": {
      "text/plain": [
       "array([23039.87288583])"
      ]
     },
     "execution_count": 12,
     "metadata": {},
     "output_type": "execute_result"
    }
   ],
   "source": [
    "# example\n",
    "\n",
    "# load\n",
    "class ModelByRegion:\n",
    "    def __init__(self,bst,scale = 34122.5775755):\n",
    "        self.bst = bst\n",
    "        self.scale = scale\n",
    "        # from https://www.statista.com/statistics/708972/average-annual-nominal-wages-of-employees-italy-by-region/\n",
    "        self.salary_by_region = dict(\n",
    "            Lombardia=31446,\n",
    "            Trentino=30786,\n",
    "            Lazio=30496,\n",
    "            Emilia=30273,\n",
    "            Liguria=30190,\n",
    "            Piemonte=29556,\n",
    "            Veneto=29286,\n",
    "            Friuli=29222,\n",
    "            Aosta=29202,\n",
    "            Toscana=28513,\n",
    "            Marche=27411,\n",
    "            Abruzzo=27039,\n",
    "            Campania=26904,\n",
    "            Umbria=26737,\n",
    "            Puglia=26410,\n",
    "            Molise=26263,\n",
    "            Sicilia=26133,\n",
    "            Sardegna=26042,\n",
    "            Calabria=25079,\n",
    "            Basilicata=24308,\n",
    "        )\n",
    "        \n",
    "    def predict(self,contract_time,category,region):\n",
    "        x = pd.DataFrame(dict(contract_time=[contract_time], category=[category]),dtype=\"category\")\n",
    "        return (self.bst.predict(x) / self.scale) * self.salary_by_region[region]\n",
    "\n",
    "    \n",
    "bst = pd.read_pickle(\"bst.p\")\n",
    "model = ModelByRegion(bst)\n",
    "\n",
    "contract_time = \"permanent\"\n",
    "category = \"Accounting & Finance Jobs\"\n",
    "region = \"Lombardia\"\n",
    "\n",
    "model.predict(contract_time,category,region)"
   ]
  },
  {
   "cell_type": "code",
   "execution_count": null,
   "metadata": {},
   "outputs": [],
   "source": []
  }
 ],
 "metadata": {
  "kernelspec": {
   "display_name": "Python 3",
   "language": "python",
   "name": "python3"
  },
  "language_info": {
   "codemirror_mode": {
    "name": "ipython",
    "version": 3
   },
   "file_extension": ".py",
   "mimetype": "text/x-python",
   "name": "python",
   "nbconvert_exporter": "python",
   "pygments_lexer": "ipython3",
   "version": "3.7.4"
  }
 },
 "nbformat": 4,
 "nbformat_minor": 4
}
