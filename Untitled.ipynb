{
 "cells": [
  {
   "cell_type": "code",
   "execution_count": 1,
   "metadata": {},
   "outputs": [],
   "source": [
    "import requests\n",
    "to_predict_dict = dict(\n",
    "    ContractTime_contract=True,\n",
    "    ContractTime_permanent=True,\n",
    "    Category_Accounting__Finance_Jobs=True,\n",
    "    Category_Admin_Jobs=True,\n",
    "    Category_Charity__Voluntary_Jobs=True,\n",
    "    Category_Consultancy_Jobs=True,\n",
    "    Category_Creative__Design_Jobs=True,\n",
    "    Category_Customer_Services_Jobs=True,\n",
    "    Category_Domestic_help__Cleaning_Jobs=True,\n",
    "    Category_Energy__Oil__Gas_Jobs=True,\n",
    "    Category_Engineering_Jobs=True,\n",
    "    Category_Graduate_Jobs=True,\n",
    "    Category_HR__Recruitment_Jobs=True,\n",
    "    Category_Healthcare__Nursing_Jobs=True,\n",
    "    Category_Hospitality__Catering_Jobs=True,\n",
    "    Category_IT_Jobs=True,\n",
    "    Category_Legal_Jobs=True,\n",
    "    Category_Logistics__Warehouse_Jobs=True,\n",
    "    Category_Maintenance_Jobs=True,\n",
    "    Category_Manufacturing_Jobs=True,\n",
    "    Category_Other_General_Jobs=True,\n",
    "    Category_PR__Advertising__Marketing_Jobs=True,\n",
    "    Category_Part_time_Jobs=True,\n",
    "    Category_Property_Jobs=True,\n",
    "    Category_Retail_Jobs=True,\n",
    "    Category_Sales_Jobs=True,\n",
    "    Category_Scientific__QA_Jobs=True,\n",
    "    Category_Social_work_Jobs=True,\n",
    "    Category_Teaching_Jobs=True,\n",
    "    Category_Trade__Construction_Jobs=True,\n",
    "    Category_Travel_Jobs=True,\n",
    "    )\n",
    "\n",
    "url = 'http://127.0.0.1:8000/predict'\n",
    "r = requests.post(url,json=to_predict_dict)#; r.json()"
   ]
  },
  {
   "cell_type": "code",
   "execution_count": 16,
   "metadata": {},
   "outputs": [],
   "source": [
    "tmp = r.json()"
   ]
  },
  {
   "cell_type": "code",
   "execution_count": 18,
   "metadata": {},
   "outputs": [
    {
     "data": {
      "text/plain": [
       "27500"
      ]
     },
     "execution_count": 18,
     "metadata": {},
     "output_type": "execute_result"
    }
   ],
   "source": [
    "tmp[\"prediction\"]"
   ]
  },
  {
   "cell_type": "code",
   "execution_count": 11,
   "metadata": {},
   "outputs": [
    {
     "ename": "TypeError",
     "evalue": "cannot convert dictionary update sequence element #0 to a sequence",
     "output_type": "error",
     "traceback": [
      "\u001b[0;31m---------------------------------------------------------------------------\u001b[0m",
      "\u001b[0;31mTypeError\u001b[0m                                 Traceback (most recent call last)",
      "\u001b[0;32m<ipython-input-11-3ea36482f58b>\u001b[0m in \u001b[0;36m<module>\u001b[0;34m\u001b[0m\n\u001b[0;32m----> 1\u001b[0;31m \u001b[0mdict\u001b[0m\u001b[0;34m(\u001b[0m\u001b[0mr\u001b[0m\u001b[0;34m.\u001b[0m\u001b[0mcontent\u001b[0m\u001b[0;34m)\u001b[0m\u001b[0;34m\u001b[0m\u001b[0;34m\u001b[0m\u001b[0m\n\u001b[0m",
      "\u001b[0;31mTypeError\u001b[0m: cannot convert dictionary update sequence element #0 to a sequence"
     ]
    }
   ],
   "source": [
    "dict(r.content)"
   ]
  },
  {
   "cell_type": "code",
   "execution_count": null,
   "metadata": {},
   "outputs": [],
   "source": []
  }
 ],
 "metadata": {
  "kernelspec": {
   "display_name": "Python 3",
   "language": "python",
   "name": "python3"
  },
  "language_info": {
   "codemirror_mode": {
    "name": "ipython",
    "version": 3
   },
   "file_extension": ".py",
   "mimetype": "text/x-python",
   "name": "python",
   "nbconvert_exporter": "python",
   "pygments_lexer": "ipython3",
   "version": "3.7.4"
  }
 },
 "nbformat": 4,
 "nbformat_minor": 4
}
